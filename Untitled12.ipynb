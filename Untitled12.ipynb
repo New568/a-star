{
  "nbformat": 4,
  "nbformat_minor": 0,
  "metadata": {
    "colab": {
      "name": "Untitled12.ipynb",
      "provenance": []
    },
    "kernelspec": {
      "name": "python3",
      "display_name": "Python 3"
    },
    "language_info": {
      "name": "python"
    }
  },
  "cells": [
    {
      "cell_type": "markdown",
      "source": [
        "A*"
      ],
      "metadata": {
        "id": "fDWePURAbCB-"
      }
    },
    {
      "cell_type": "code",
      "source": [
        "from collections import deque\n",
        "\n",
        "class Graph:\n",
        "    \n",
        "    def __init__(self, adjacency_list):\n",
        "        self.adjacency_list = adjacency_list\n",
        "\n",
        "    def get_neighbors(self, v):\n",
        "        return self.adjacency_list[v]\n",
        "\n",
        "    def h(self, n):\n",
        "        H = {\n",
        "            'S':5,\n",
        "            'A': 3,\n",
        "            'B': 4,\n",
        "            'C': 2,\n",
        "            'D': 6,\n",
        "            'G' : 0\n",
        "        }\n",
        "\n",
        "        return H[n]\n",
        "\n",
        "    def a_star_algorithm(self, start_node, stop_node):\n",
        "      \n",
        "        open_list = set([start_node])\n",
        "        closed_list = set([])\n",
        "\n",
        "        g = {}\n",
        "        g[start_node] = 0\n",
        "\n",
        "        parents = {}\n",
        "        parents[start_node] = start_node\n",
        "\n",
        "        while len(open_list) > 0:\n",
        "            n = None\n",
        "\n",
        "            for v in open_list:\n",
        "                if n == None or g[v] + self.h(v) < g[n] + self.h(n):\n",
        "                    n = v;\n",
        "\n",
        "            if n == None:\n",
        "                print('Path does not exist!')\n",
        "                return None\n",
        "            if n == stop_node:\n",
        "                reconst_path = []\n",
        "                while parents[n] != n:\n",
        "                    reconst_path.append(n)\n",
        "                    n = parents[n]\n",
        "                reconst_path.append(start_node)\n",
        "                reconst_path.reverse()\n",
        "                print('Path found: ',reconst_path )\n",
        "                return reconst_path\n",
        "            for (m, weight) in self.get_neighbors(n):\n",
        "                if m not in open_list and m not in closed_list:\n",
        "                    open_list.add(m)\n",
        "                    parents[m] = n\n",
        "                    g[m] = g[n] + weight\n",
        "                else:\n",
        "                    if g[m] > g[n] + weight:\n",
        "                        g[m] = g[n] + weight\n",
        "                        parents[m] = n\n",
        "                        if m in closed_list:\n",
        "                            closed_list.remove(m)\n",
        "                            open_list.add(m)\n",
        "            open_list.remove(n)\n",
        "            closed_list.add(n)\n",
        "        print('Path does not exist!')\n",
        "        return None\n",
        "adjacency_list = {\n",
        "    'S': [('A', 1), ('G', 10)],\n",
        "    'A': [('B', 2),('C',1)],\n",
        "    'B': [('D', 5)],\n",
        "    'C': [('D', 3),('G',4)],\n",
        "    'D':[('G',2)]\n",
        "}\n",
        "graph1 = Graph(adjacency_list)\n",
        "graph1.a_star_algorithm('S', 'G')"
      ],
      "metadata": {
        "id": "z5s_zvu8bC6P",
        "outputId": "5bbb6364-83e7-4394-b1ee-60855628dca3",
        "colab": {
          "base_uri": "https://localhost:8080/"
        }
      },
      "execution_count": 1,
      "outputs": [
        {
          "output_type": "stream",
          "name": "stdout",
          "text": [
            "Path found:  ['S', 'A', 'C', 'G']\n"
          ]
        },
        {
          "output_type": "execute_result",
          "data": {
            "text/plain": [
              "['S', 'A', 'C', 'G']"
            ]
          },
          "metadata": {},
          "execution_count": 1
        }
      ]
    }
  ]
}